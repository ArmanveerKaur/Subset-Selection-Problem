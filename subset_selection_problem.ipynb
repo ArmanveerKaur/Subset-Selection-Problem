{
  "nbformat": 4,
  "nbformat_minor": 0,
  "metadata": {
    "colab": {
      "provenance": [],
      "authorship_tag": "ABX9TyNPVBqDeuwSQGxExT1QS1mS",
      "include_colab_link": true
    },
    "kernelspec": {
      "name": "python3",
      "display_name": "Python 3"
    },
    "language_info": {
      "name": "python"
    }
  },
  "cells": [
    {
      "cell_type": "markdown",
      "metadata": {
        "id": "view-in-github",
        "colab_type": "text"
      },
      "source": [
        "<a href=\"https://colab.research.google.com/github/ArmanveerKaur/Subset-Selection-Problem/blob/main/subset_selection_problem.ipynb\" target=\"_parent\"><img src=\"https://colab.research.google.com/assets/colab-badge.svg\" alt=\"Open In Colab\"/></a>"
      ]
    },
    {
      "cell_type": "markdown",
      "source": [
        "1.Problem statement\n",
        "\n",
        "\n",
        "1. Find all the subsets from a set of numbers whose sum is zero.\n",
        "2. Constraint: Subset size must be 5 \n",
        "3. Set={-12, -3, -6, 7, 2, -2, 6, 3, 9, -7, -5, -8, 1, 11, -9, -4}  \n"
      ],
      "metadata": {
        "id": "xy7lbmhQT6gw"
      }
    },
    {
      "cell_type": "code",
      "execution_count": null,
      "metadata": {
        "id": "xkM9OwRRT12y"
      },
      "outputs": [],
      "source": [
        "#including the library\n",
        "import random as r"
      ]
    },
    {
      "cell_type": "code",
      "source": [
        "#setting parameters\n",
        "S=set([-12,-3,-6,7,2,-2,6,3,9,-7,-5,-8,1,11,-9,-4])\n",
        "size=5\n",
        "list=set()\n",
        "iter=1000 #iterrations"
      ],
      "metadata": {
        "id": "YvwCW4C1UCgx"
      },
      "execution_count": null,
      "outputs": []
    },
    {
      "cell_type": "code",
      "source": [
        "#program\n",
        "for i in range(iter):    #loop works till no. of iterations\n",
        "  x=r.sample(S, size)     #selecting elements from set S\n",
        "  if sum(x)==0:          #checking the sum of elements of set\n",
        "    list.add(tuple(x))   "
      ],
      "metadata": {
        "colab": {
          "base_uri": "https://localhost:8080/"
        },
        "id": "jN3EioR2UIqR",
        "outputId": "51e9eb47-539d-47fa-816b-0f6f24e094ec"
      },
      "execution_count": null,
      "outputs": [
        {
          "output_type": "stream",
          "name": "stderr",
          "text": [
            "<ipython-input-3-7e23ac8ec7e9>:3: DeprecationWarning: Sampling from a set deprecated\n",
            "since Python 3.9 and will be removed in a subsequent version.\n",
            "  x=r.sample(S, size)     #selecting elements from set S\n"
          ]
        }
      ]
    },
    {
      "cell_type": "code",
      "source": [
        "#print the set\n",
        "for r in list:\n",
        " print(r) \n",
        "#printing the no. of sets       \n",
        "print(\"No. of sets whose sum is zero:\",len(list)) "
      ],
      "metadata": {
        "colab": {
          "base_uri": "https://localhost:8080/"
        },
        "id": "RwPmA2JDUJgl",
        "outputId": "7b59e60b-adc7-4e41-da69-fac55fdaccb4"
      },
      "execution_count": null,
      "outputs": [
        {
          "output_type": "stream",
          "name": "stdout",
          "text": [
            "(-12, -4, 1, 6, 9)\n",
            "(9, -2, -6, 7, -8)\n",
            "(3, 6, -4, -3, -2)\n",
            "(1, -12, -6, 6, 11)\n",
            "(6, -9, 2, -2, 3)\n",
            "(11, -5, -2, 2, -6)\n",
            "(-12, 1, -6, 6, 11)\n",
            "(-12, 6, 3, -8, 11)\n",
            "(-8, 6, 2, -7, 7)\n",
            "(6, -8, -7, 11, -2)\n",
            "(-6, 9, 6, -4, -5)\n",
            "(-2, 7, -12, 11, -4)\n",
            "(6, -2, -7, 1, 2)\n",
            "(1, 2, 6, -6, -3)\n",
            "(7, -8, 1, -9, 9)\n",
            "(-8, 7, -6, -2, 9)\n",
            "(-7, -4, 3, 2, 6)\n",
            "(3, 6, -7, 2, -4)\n",
            "(3, 9, -2, -3, -7)\n",
            "(2, 11, 1, -5, -9)\n",
            "(6, 3, -5, 2, -6)\n",
            "(6, -3, -5, 11, -9)\n",
            "(3, -4, -3, -5, 9)\n",
            "(-7, 7, 3, -5, 2)\n",
            "(7, -12, 6, -3, 2)\n",
            "(3, 6, -7, -9, 7)\n",
            "(6, -4, 3, 1, -6)\n",
            "(9, 3, 7, -7, -12)\n",
            "(-4, -6, 11, -7, 6)\n",
            "(3, 11, -9, -12, 7)\n",
            "(-4, -2, 3, 6, -3)\n",
            "(7, 11, -7, -6, -5)\n",
            "No. of sets whose sum is zero: 32\n"
          ]
        }
      ]
    },
    {
      "cell_type": "markdown",
      "source": [
        "2.Problem statement\n",
        "\n",
        "\n",
        "1.   Find all the subsets from a set of numbers whose sum is zero\n",
        "2.   Constraint: Subset size must be 3 to 6 only\n",
        "3.   Set={-12, -3, -6, 7, 2, -2, 6, 3, 9, -7, -5, -8, 1, 11, -9, -4}"
      ],
      "metadata": {
        "id": "5QyT1vAIUpSp"
      }
    },
    {
      "cell_type": "code",
      "source": [
        "#including library\n",
        "import random as r"
      ],
      "metadata": {
        "id": "eB0Eh-ixVKUS"
      },
      "execution_count": null,
      "outputs": []
    },
    {
      "cell_type": "code",
      "source": [
        "#parameters\n",
        "S=set([-12, -3, -6, 7, 2, -2, 6, 3, 9, -7, -5, -8, 1, 11, -9, -4])\n",
        "size_lb=3\n",
        "size_ub=6\n",
        "list=set()\n",
        "iter=1000  #no. of iterartions"
      ],
      "metadata": {
        "id": "libHkennVTEJ"
      },
      "execution_count": null,
      "outputs": []
    },
    {
      "cell_type": "code",
      "source": [
        "#program\n",
        "for i in range(iter):             #loop works till no. number of iterartions\n",
        " size=r.randint(size_lb,size_ub)  #selecting set size\n",
        " x=r.sample(S,size)               #selecting the set\n",
        " if sum(x)==0:                     #checking the sum of the elements of the set\n",
        "  list.add(tuple(x))"
      ],
      "metadata": {
        "colab": {
          "base_uri": "https://localhost:8080/"
        },
        "id": "GUr5IWpzVyDM",
        "outputId": "15f24b05-875b-4ee2-9275-120150ef0b7a"
      },
      "execution_count": null,
      "outputs": [
        {
          "output_type": "stream",
          "name": "stderr",
          "text": [
            "<ipython-input-9-7509c3196b26>:4: DeprecationWarning: Sampling from a set deprecated\n",
            "since Python 3.9 and will be removed in a subsequent version.\n",
            "  x=r.sample(S,size)               #selecting the set\n"
          ]
        }
      ]
    },
    {
      "cell_type": "code",
      "source": [
        "#printing set\n",
        "for j in list:\n",
        " print(j)\n",
        "#no. of sets\n",
        "print(\"no.of sets:\",len(list))"
      ],
      "metadata": {
        "colab": {
          "base_uri": "https://localhost:8080/"
        },
        "id": "8_CZ5SDyW6jn",
        "outputId": "24e5c81f-63e8-498d-e975-bee05fd1b39b"
      },
      "execution_count": null,
      "outputs": [
        {
          "output_type": "stream",
          "name": "stdout",
          "text": [
            "(-7, 11, 2, -9, 3)\n",
            "(1, -8, 7)\n",
            "(9, 1, -9, 11, -12)\n",
            "(-12, 9, 1, -4, 6)\n",
            "(-6, 11, -12, -3, 9, 1)\n",
            "(-8, -4, 11, -12, 7, 6)\n",
            "(-8, 11, -3)\n",
            "(6, 9, -8, 2, -6, -3)\n",
            "(-2, -4, -6, 1, 9, 2)\n",
            "(-12, 1, 11)\n",
            "(-2, -8, 3, 1, 6)\n",
            "(2, -8, 6)\n",
            "(-8, 9, -12, 6, 7, -2)\n",
            "(6, -4, -2)\n",
            "(2, 11, -3, -2, -8)\n",
            "(11, 1, 3, -12, -3)\n",
            "(3, 2, -8, -3, 6)\n",
            "(-2, -3, 3, 2)\n",
            "(7, -2, -5)\n",
            "(-4, -2, 6)\n",
            "(6, -4, -9, 7)\n",
            "(9, -9, -4, 7, -3)\n",
            "(6, 3, -4, 11, -7, -9)\n",
            "(9, -2, -3, -4)\n",
            "(11, 3, -8, -9, -6, 9)\n",
            "(11, -3, 1, -9)\n",
            "(1, -7, -8, -2, 9, 7)\n",
            "(3, -5, 2)\n",
            "(2, -9, -4, 11)\n",
            "(6, 3, 1, -12, 2)\n",
            "(-3, 2, 1)\n",
            "no.of sets: 31\n"
          ]
        }
      ]
    }
  ]
}